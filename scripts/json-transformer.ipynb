{
 "cells": [
  {
   "cell_type": "code",
   "execution_count": 1,
   "metadata": {},
   "outputs": [],
   "source": [
    "import pandas as pd\n",
    "import numpy as np\n",
    "import re\n",
    "\n",
    "pd.set_option('display.max_rows', 500)"
   ]
  },
  {
   "cell_type": "code",
   "execution_count": 2,
   "metadata": {},
   "outputs": [],
   "source": [
    "master = pd.read_excel('wingspan-card-list.xlsx', sheet_name='Master')\n",
    "bonus = pd.read_excel('wingspan-card-list.xlsx', sheet_name='Bonus cards')"
   ]
  },
  {
   "cell_type": "code",
   "execution_count": 3,
   "metadata": {},
   "outputs": [],
   "source": [
    "# Isolate later expansions\n",
    "oceania = master[master['Expansion'] == 'oceania']\n",
    "oceania = oceania.sort_values(by=['Common name'], na_position='first')\n",
    "\n",
    "# Index according to legacy rules \n",
    "master = master[(master['Expansion'].isin(['originalcore', 'core', 'swiftstart', 'european', 'chinesepromo']) | pd.isna(master['Expansion']))]\n",
    "master = master.sort_values(by=['Common name'], na_position='first')\n",
    "master = master.reset_index(drop=True)\n",
    "master = master.drop([0, 1])"
   ]
  },
  {
   "cell_type": "code",
   "execution_count": 4,
   "metadata": {},
   "outputs": [],
   "source": [
    "### Append later expansions\n",
    "master = master.append(oceania)"
   ]
  },
  {
   "cell_type": "code",
   "execution_count": 5,
   "metadata": {},
   "outputs": [],
   "source": [
    "master['id'] = master.index\n",
    "master['Common name'] = master['Common name'].map(lambda s: s.strip())\n",
    "bonus['id'] = bonus.index + 1000"
   ]
  },
  {
   "cell_type": "code",
   "execution_count": 6,
   "metadata": {},
   "outputs": [],
   "source": [
    "master = master[master['Expansion'] != 'chinesepromo']"
   ]
  },
  {
   "cell_type": "code",
   "execution_count": 7,
   "metadata": {},
   "outputs": [],
   "source": [
    "rulings = pd.read_csv('Wingspan - Rulings.tsv', sep='\\t', header=None, names=['id', 'general', 'specific', 'text', 'source'])\n",
    "rulings['text'] = rulings.text.map(lambda t: re.sub(r'\\\\textbf\\{([\\w \\'\\-\\[\\]]+)\\}', r'<strong>\\1</strong>', re.sub(r'\\\\textit\\{([\\w \\'\\-\\[\\]]+)\\}', r'<i>\\1</i>', t)))\n",
    "\n",
    "general = rulings[~pd.isna(rulings['general'])].drop(['specific'], axis=1)\n",
    "general['general'] = general.general.map(lambda t: re.sub(r'\\$\\\\Rightarrow\\$', '➔', t))\n",
    "specific = rulings[~pd.isna(rulings['specific'])].drop(['general'], axis=1)\n",
    "specific['specific'] = specific['specific'].map(lambda s: s.strip())\n",
    "grouped = specific.groupby(by='specific').apply(lambda group: list(map(lambda t: {'text': t[0], 'source': t[1]}, zip(group['text'], group['source']))))"
   ]
  },
  {
   "cell_type": "code",
   "execution_count": 8,
   "metadata": {
    "tags": []
   },
   "outputs": [],
   "source": [
    "general.reset_index(drop=True, inplace=True)\n",
    "general.drop(['id'], axis=1, inplace=True)\n",
    "general.columns = ['name', 'text', 'source']\n",
    "master['rulings'] = master['Common name'].map(lambda name: grouped[name] if name in grouped else [])\n",
    "bonus['rulings'] = bonus['Name'].map(lambda name: grouped[name] if name in grouped else [])"
   ]
  },
  {
   "cell_type": "code",
   "execution_count": 9,
   "metadata": {},
   "outputs": [],
   "source": [
    "master.sort_values(by='Common name', inplace=True)"
   ]
  },
  {
   "cell_type": "code",
   "execution_count": 10,
   "metadata": {},
   "outputs": [],
   "source": [
    "master.to_json('generated/master.json', orient='records', index=True)\n",
    "bonus.to_json('generated/bonus.json', orient='records', index=True)\n",
    "general.to_json('generated/general.json', orient='index')"
   ]
  }
 ],
 "metadata": {
  "kernelspec": {
   "display_name": "Python 3",
   "language": "python",
   "name": "python3"
  },
  "language_info": {
   "codemirror_mode": {
    "name": "ipython",
    "version": 3
   },
   "file_extension": ".py",
   "mimetype": "text/x-python",
   "name": "python",
   "nbconvert_exporter": "python",
   "pygments_lexer": "ipython3",
   "version": "3.7.4-final"
  }
 },
 "nbformat": 4,
 "nbformat_minor": 2
}